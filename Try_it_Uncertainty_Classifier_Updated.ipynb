{
 "cells": [
  {
   "cell_type": "code",
   "execution_count": null,
   "metadata": {
    "id": "vEP4d8BHAZf8"
   },
   "outputs": [],
   "source": [
    "\n",
    "# Import ipywidgets and other required libraries\n",
    "import ipywidgets as widgets\n",
    "from IPython.display import display\n",
    "\n",
    "# Create a button to install necessary packages\n",
    "install_button = widgets.Button(description='Install Packages')\n",
    "output = widgets.Output()\n",
    "\n",
    "def install_packages(b):\n",
    "    with output:\n",
    "        !pip install -q <your_packages_here>\n",
    "\n",
    "install_button.on_click(install_packages)\n",
    "display(install_button, output)\n"
   ]
  },
  {
   "cell_type": "code",
   "execution_count": null,
   "metadata": {
    "id": "-JqcGxvxPOsp"
   },
   "outputs": [],
   "source": [
    "\n",
    "# Record Audio Button\n",
    "record_button = widgets.Button(description='Record Audio')\n",
    "record_output = widgets.Output()\n",
    "\n",
    "def record_audio(b):\n",
    "    with record_output:\n",
    "        print('Recording started...')\n",
    "        # Add your recording code logic here\n",
    "        print('Recording completed.')\n",
    "\n",
    "record_button.on_click(record_audio)\n",
    "display(record_button, record_output)\n"
   ]
  },
  {
   "cell_type": "code",
   "execution_count": null,
   "metadata": {
    "id": "HrfxzzqA8jCl"
   },
   "outputs": [],
   "source": [
    "\n",
    "# Upload Audio Widget\n",
    "upload_widget = widgets.FileUpload(accept='.wav', multiple=False)\n",
    "upload_output = widgets.Output()\n",
    "\n",
    "def on_upload_change(change):\n",
    "    with upload_output:\n",
    "        # Process the uploaded audio file\n",
    "        uploaded_file = next(iter(upload_widget.value.values()))\n",
    "        content = uploaded_file['content']\n",
    "        print('Audio uploaded!')\n",
    "\n",
    "upload_widget.observe(on_upload_change, names='value')\n",
    "display(upload_widget, upload_output)\n"
   ]
  },
  {
   "cell_type": "code",
   "execution_count": null,
   "metadata": {
    "id": "xYyw5dvkGqgM"
   },
   "outputs": [],
   "source": [
    "\n",
    "# Predict Certainty Button\n",
    "predict_button = widgets.Button(description='Predict Certainty')\n",
    "predict_output = widgets.Output()\n",
    "\n",
    "def predict_certainty(b):\n",
    "    with predict_output:\n",
    "        # Add the prediction code here\n",
    "        print('Prediction started...')\n",
    "        # Simulate prediction output\n",
    "        print('Certainty degree: 85%')\n",
    "\n",
    "predict_button.on_click(predict_certainty)\n",
    "display(predict_button, predict_output)\n"
   ]
  },
  {
   "cell_type": "code",
   "execution_count": null,
   "metadata": {
    "id": "ufvvam2aVNmD"
   },
   "outputs": [],
   "source": [
    "#@title Click to see the transcription and certainty degree {display-mode: \"form\"}\n",
    "print(\"Transcription: \",predicted_text)\n",
    "print(\"Certainty degree (0-extremely uncertain; 1-extremely certain)\",predcted_uncertainty)"
   ]
  }
 ],
 "metadata": {
  "colab": {
   "provenance": []
  },
  "kernelspec": {
   "display_name": "Python 3",
   "name": "python3"
  },
  "language_info": {
   "name": "python"
  }
 },
 "nbformat": 4,
 "nbformat_minor": 0
}
